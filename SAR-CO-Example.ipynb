{
 "cells": [
  {
   "cell_type": "markdown",
   "id": "a52835c2",
   "metadata": {},
   "source": [
    "SAR-Colombia<br>\n",
    "Example scripts for Standardized Precipitation Index and Keetch-Byram Drought Index\n"
   ]
  },
  {
   "cell_type": "code",
   "execution_count": 3,
   "id": "b3e2085d",
   "metadata": {},
   "outputs": [],
   "source": [
    "%matplotlib inline\n",
    "import pandas as pd\n",
    "import geopandas as gpd\n",
    "from datetime import datetime, timedelta\n",
    "import matplotlib.pyplot as plt\n",
    "from standard_precip.spi import SPI\n",
    "from standard_precip.utils import plot_index\n",
    "import numpy as np\n",
    "from geopandas.tools import sjoin\n",
    "import geoplot\n",
    "\n",
    "import matplotlib.pylab as pylab\n",
    "pylab.rcParams['figure.figsize'] = 8, 6"
   ]
  },
  {
   "cell_type": "code",
   "execution_count": null,
   "id": "59045ad5",
   "metadata": {},
   "outputs": [],
   "source": [
    "datafile = \"./Data/PTPM_CON@32010010.data\"\n",
    "dat = pd.read_csv(datafile,sep=\"|\")\n",
    "dat['Fecha'] = pd.to_datetime(dat['Fecha'])\n",
    "dat.set_index(dat['Fecha'],inplace=True,drop=True)\n",
    "dat.index.name = None\n",
    "dat = dat[dat['Fecha'] >= '1990-01-01']"
   ]
  },
  {
   "cell_type": "code",
   "execution_count": null,
   "id": "506fc54b",
   "metadata": {},
   "outputs": [],
   "source": [
    "dat.head()"
   ]
  },
  {
   "cell_type": "code",
   "execution_count": null,
   "id": "7d8a0270",
   "metadata": {},
   "outputs": [],
   "source": [
    "# Example of grouping data using 'resample'\n",
    "dat.resample(rule='M', on='Fecha')['Valor'].sum().plot()"
   ]
  },
  {
   "cell_type": "code",
   "execution_count": null,
   "id": "3dc9fdd2",
   "metadata": {},
   "outputs": [],
   "source": [
    "# Example of grouping data using 'groupby'\n",
    "dat.Valor.groupby(dat.Fecha.dt.dayofyear).mean().plot()"
   ]
  },
  {
   "cell_type": "code",
   "execution_count": null,
   "id": "ef0ec70b",
   "metadata": {},
   "outputs": [],
   "source": [
    "# You can use 'dt' functions to create time variables for summaries\n",
    "# This is an example for the Day of the Year, or Yearday\n",
    "dat.Fecha.dt.dayofyear"
   ]
  },
  {
   "cell_type": "code",
   "execution_count": null,
   "id": "4b631466",
   "metadata": {},
   "outputs": [],
   "source": [
    "# Determine the historical 50th and 75th percentile of daily rainfall events\n",
    "dat.Valor.quantile([.5,.75])"
   ]
  },
  {
   "cell_type": "code",
   "execution_count": null,
   "id": "ed0dfeb5",
   "metadata": {},
   "outputs": [],
   "source": [
    "spi = SPI()\n",
    "numdays = 90   #Note: this number will be used to create a new variable in the 'dat' DataFrame\n",
    "                # For example: Valor_scale_90_calculated_index\n",
    "df_spi = spi.calculate(\n",
    "    dat, \n",
    "    'Fecha', \n",
    "    'Valor', \n",
    "    freq=\"D\", \n",
    "    scale=numdays, \n",
    "    fit_type=\"lmom\", \n",
    "    dist_type=\"gam\"\n",
    ")"
   ]
  },
  {
   "cell_type": "code",
   "execution_count": null,
   "id": "601b259b",
   "metadata": {},
   "outputs": [],
   "source": [
    "fig = plot_index(df_spi, 'Fecha', f'Valor_scale_{numdays}_calculated_index')\n",
    "fig.gca().set_title('La Mariposa, Municipio de La Uribe')\n",
    "fout = f\"./Temp/LaMariposa_{numdays}Day_SPI.png\"\n",
    "if(fout != \"\"):\n",
    "    plt.savefig(fout, dpi=300, bbox_inches='tight')"
   ]
  },
  {
   "cell_type": "code",
   "execution_count": null,
   "id": "b12c2489",
   "metadata": {},
   "outputs": [],
   "source": [
    "df_spi.Valor_scale_90_calculated_index.groupby(df_spi.Fecha.dt.dayofyear).mean()[0:364].plot()\n",
    "plt.grid()\n",
    "fout = f\"./Temp/LaMariposa_{numdays}MeanDaily_SPI.png\"\n",
    "if(fout != \"\"):\n",
    "    plt.savefig(fout, dpi=300, bbox_inches='tight')"
   ]
  },
  {
   "cell_type": "code",
   "execution_count": null,
   "id": "ddd76013",
   "metadata": {},
   "outputs": [],
   "source": [
    "# Read the VIIRS data for Peru\n",
    "base = r'./Data/FIRMS'\n",
    "#base = r'D:\\Data\\Peru\\FIRMS_Hist'\n",
    "modiscofn = \"%s/%s\" % (base,\"fire_archive_M-C61_221838.shp\")\n",
    "modisco = gpd.read_file(modiscofn)"
   ]
  },
  {
   "cell_type": "code",
   "execution_count": null,
   "id": "51ef2d1d",
   "metadata": {},
   "outputs": [],
   "source": [
    "modisco.plot()"
   ]
  },
  {
   "cell_type": "code",
   "execution_count": 7,
   "id": "8abc299f",
   "metadata": {},
   "outputs": [],
   "source": [
    "base = \"./Data/Base/ne_10m_admin_1_states_provinces\"\n",
    "fname = f\"{base}/ne_10m_admin_1_states_provinces.shp\"\n",
    "Admin1Bnd = gpd.read_file(fname)\n",
    "CO_Bnds = Admin1Bnd[Admin1Bnd.iso_a2.isin([\"CO\"])]\n",
    "Meta_Bnd = Admin1Bnd[Admin1Bnd.name.isin([\"Meta\"])]"
   ]
  },
  {
   "cell_type": "code",
   "execution_count": null,
   "id": "9f607e61",
   "metadata": {},
   "outputs": [],
   "source": [
    "Meta_Bnd.plot()"
   ]
  },
  {
   "cell_type": "code",
   "execution_count": null,
   "id": "bc36426c",
   "metadata": {},
   "outputs": [],
   "source": [
    "points_polys = gpd.sjoin(modisco, CO_Bnds, how=\"left\")\n",
    "points_polys['ACQ_DATE'] = pd.to_datetime(points_polys.ACQ_DATE)\n",
    "points_polys.head(10)"
   ]
  },
  {
   "cell_type": "code",
   "execution_count": null,
   "id": "0df5634b",
   "metadata": {},
   "outputs": [],
   "source": [
    "MODIS_Meta = points_polys[points_polys['name'] == \"Meta\"]\n",
    "MODIS_Bogota = points_polys[points_polys['name'] == \"Bogota\"]\n"
   ]
  },
  {
   "cell_type": "code",
   "execution_count": null,
   "id": "53b821db",
   "metadata": {},
   "outputs": [],
   "source": [
    "MODIS_Bogota.groupby(MODIS_Bogota.ACQ_DATE.dt.month).FRP.sum().plot()"
   ]
  },
  {
   "cell_type": "code",
   "execution_count": null,
   "id": "29629b15",
   "metadata": {},
   "outputs": [],
   "source": [
    "ax = geoplot.kdeplot(\n",
    "    MODIS_Meta.head(1000), clip=Meta_Bnd,\n",
    "    shade=True, cmap='Reds',\n",
    "    projection=geoplot.crs.AlbersEqualArea())\n",
    "geoplot.polyplot(Meta_Bnd, ax=ax, zorder=1)"
   ]
  },
  {
   "cell_type": "code",
   "execution_count": null,
   "id": "d29f8db8",
   "metadata": {},
   "outputs": [],
   "source": [
    "MODIS_Meta['FRP_Norm'] = (MODIS_Meta['FRP'] - MODIS_Meta['FRP'].min()) / (MODIS_Meta['FRP'].max() - MODIS_Meta['FRP'].min())\n",
    "MODIS_Meta.groupby(MODIS_Meta.ACQ_DATE.dt.dayofyear).FRP_Norm.max().plot()"
   ]
  },
  {
   "cell_type": "code",
   "execution_count": null,
   "id": "2961bb98",
   "metadata": {},
   "outputs": [],
   "source": [
    "df_spi.Valor_scale_90_calculated_index.groupby(df_spi.Fecha.dt.dayofyear).mean()[0:364].plot()\n",
    "plt.grid()\n",
    "fout = f\"D:/Temp/LaMariposa_{numdays}MeanDaily_SPI.png\"\n",
    "if(fout != \"\"):\n",
    "    plt.savefig(fout, dpi=300, bbox_inches='tight')"
   ]
  },
  {
   "cell_type": "code",
   "execution_count": null,
   "id": "47748de1",
   "metadata": {},
   "outputs": [],
   "source": [
    "import matplotlib.pyplot as plt\n",
    "import numpy as np\n",
    "from pandas import DataFrame\n",
    "\n",
    "fig, ax = plt.subplots()\n",
    "fig.subplots_adjust(right=0.7)\n",
    "plt.gca().grid()\n",
    "df_spi.Valor_scale_90_calculated_index.groupby(df_spi.Fecha.dt.dayofyear).sum()[0:364].plot(ax=ax, style='b-')\n",
    "# same ax as above since it's automatically added on the right\n",
    "MODIS_Meta.groupby(MODIS_Meta.ACQ_DATE.dt.dayofyear).FRP.sum().plot(ax=ax, style='r-', secondary_y=True)\n",
    "#df.C.plot(ax=ax3, style='g-')\n",
    "\n",
    "# add legend --> take advantage of pandas providing us access\n",
    "# to the line associated with the right part of the axis\n",
    "ax.legend([ax.get_lines()[0], ax.right_ax.get_lines()[0]],\\\n",
    "           ['SPI','Sum of FRP (Normalized)'], bbox_to_anchor=(1.7, 0.5))\n",
    "fout = f\"./Temp/LaMariposa_{numdays}Mean_SPIandFRPSum_Compare.png\"\n",
    "if(fout != \"\"):\n",
    "    plt.savefig(fout, dpi=300, bbox_inches='tight')"
   ]
  },
  {
   "cell_type": "code",
   "execution_count": null,
   "id": "fafaa36e",
   "metadata": {},
   "outputs": [],
   "source": [
    "# New data file with precipitation and temperature\n",
    "datafile = \"./Data/estacion1_35035020.csv\"\n",
    "dat = pd.read_csv(datafile) #,sep=\"|\")\n",
    "dat['Fecha'] = pd.to_datetime(dat['Fecha'])\n",
    "dat.set_index(dat['Fecha'],inplace=True,drop=True)\n",
    "dat.index.name = None\n",
    "dat = dat[dat['Fecha'] >= '1990-01-01']\n"
   ]
  },
  {
   "cell_type": "code",
   "execution_count": null,
   "id": "a848334d",
   "metadata": {},
   "outputs": [],
   "source": [
    "dat['Precipitacion'].plot()"
   ]
  },
  {
   "cell_type": "code",
   "execution_count": null,
   "id": "3a1ac864",
   "metadata": {},
   "outputs": [],
   "source": [
    "ax = dat.Temperatura.groupby(dat.Fecha.dt.dayofyear).max().plot()\n",
    "dat.Temperatura.groupby(dat.Fecha.dt.dayofyear).median().plot(ax=ax)\n",
    "dat.Temperatura.groupby(dat.Fecha.dt.dayofyear).min().plot(ax=ax)\n",
    "plt.grid()"
   ]
  },
  {
   "cell_type": "code",
   "execution_count": null,
   "id": "0fff96b2",
   "metadata": {},
   "outputs": [],
   "source": [
    "dat.Precipitacion.groupby(dat.Fecha.dt.year).sum().plot()"
   ]
  },
  {
   "cell_type": "code",
   "execution_count": null,
   "id": "32821a0d",
   "metadata": {},
   "outputs": [],
   "source": [
    "# Keetch-Byram Drought Index Calculator\n",
    "# Author: W. Matt Jolly, USFS, RMRS, Missoula Fire Sciences Laboratory\n",
    "#         Email: william.jolly@usda.gov\n",
    "# Reference: Keetch, J. J., and G. M. Byram, 1968: A drought index for \n",
    "#             forest fire control.USDA Forest Service Research Paper, SE-38, 1-32.\n",
    "import math\n",
    "class KBDI:\n",
    "    yKBDI = 100  # Yesterday's KBDI value\n",
    "    KBDI = 100   # Final KBDI value\n",
    "    fAvgPrecip = 15  # Mean annual precipitation (inches)\n",
    "    CummPrecip = 0   # Cumulative precipitation (inches)\n",
    "   \n",
    "    def __init__(self,fAvgPrecipIn):\n",
    "        self.fAvgPrecip = fAvgPrecipIn\n",
    "       \n",
    "    def Calc (self,fPrecipAmt, iMaxTemp):\n",
    "            net = 0\n",
    "            idq = 0\n",
    "            pptnet = 0.00\n",
    "            xkbdi = 0.00\n",
    "            xtemp = 0.00\n",
    "\n",
    "            KBDI = int(self.yKBDI)\n",
    "            if(fPrecipAmt == 0.0):\n",
    "                self.CummPrecip = 0\n",
    "            else:\n",
    "                if(self.CummPrecip > 0.20):\n",
    "                    pptnet = fPrecipAmt\n",
    "                    self.CummPrecip = self.CummPrecip + fPrecipAmt\n",
    "                else:\n",
    "                    self.CummPrecip = self.CummPrecip + fPrecipAmt\n",
    "                    if(self.CummPrecip > 0.20):\n",
    "                        pptnet = self.CummPrecip - 0.20\n",
    "\n",
    "            net = (100.0 * pptnet) + 0.0005\n",
    "\n",
    "            net = KBDI - net\n",
    "\n",
    "            if net > 0:\n",
    "                KBDI = round(net,0)\n",
    "            else:\n",
    "                KBDI = 0\n",
    "            if(iMaxTemp > 50):\n",
    "                idq = (800.0 - KBDI) * (0.9679 * math.exp(0.0486 * iMaxTemp) - 8.299) * 0.001 / (1.0 + 10.88 * math.exp(-0.04409 * self.fAvgPrecip)) + 0.5\n",
    "            self.KBDI = int(KBDI + idq)\n",
    "            self.yKBDI = self.KBDI\n",
    "            return self.KBDI\n"
   ]
  },
  {
   "cell_type": "code",
   "execution_count": null,
   "id": "1d497b9b",
   "metadata": {},
   "outputs": [],
   "source": [
    "# Calculate the mean annual precipitation in inches\n",
    "mean_annual_precip = dat.Precipitacion.groupby(dat.Fecha.dt.year).sum().mean() / 25.4"
   ]
  },
  {
   "cell_type": "code",
   "execution_count": null,
   "id": "e3d7dac7",
   "metadata": {},
   "outputs": [],
   "source": [
    "mean_annual_precip"
   ]
  },
  {
   "cell_type": "code",
   "execution_count": null,
   "id": "40bf5b54",
   "metadata": {},
   "outputs": [],
   "source": [
    "dat['KBDI'] = 100\n",
    "kbdi = KBDI(mean_annual_precip)\n",
    "for index, row in dat.iterrows():\n",
    "    kbdi_diario = kbdi.Calc(row['Precipitacion'] / 25.4,(row['Temperatura'] * 9/5) + 32)\n",
    "    dat.at[index,'KBDI'] = kbdi_diario"
   ]
  },
  {
   "cell_type": "code",
   "execution_count": null,
   "id": "dfa1a1b3",
   "metadata": {},
   "outputs": [],
   "source": [
    "dat.KBDI.plot()"
   ]
  },
  {
   "cell_type": "code",
   "execution_count": null,
   "id": "1bd9a51a",
   "metadata": {},
   "outputs": [],
   "source": [
    "statid = \"35035020 (Villavicencio, Meta, Colombia)\"\n",
    "ax = dat.KBDI.groupby(dat.Fecha.dt.dayofyear).median().plot(title=statid,legend=True,label=\"Median\")\n",
    "dat.KBDI.groupby(dat.Fecha.dt.dayofyear).max().plot(ax=ax,legend=True,label=\"Max\")\n",
    "dat.KBDI.groupby(dat.Fecha.dt.dayofyear).min().plot(ax=ax,legend=True,label=\"Min\")\n",
    "plt.gca().set_ylabel(\"Keetch-Byram Drought Index\")\n",
    "MODIS_Meta.groupby(MODIS_Meta.ACQ_DATE.dt.dayofyear).FRP_Norm.max().plot(ax=ax,secondary_y=True,legend=True,label='MODIS FRP Norm')\n",
    "plt.gca().set_ylabel(\"MODIS FRP_Norm\")\n",
    "\n",
    "plt.grid()\n",
    "fout = f\"D:/Temp/{statid}_MeanDailyKBDI.png\"\n",
    "if(fout != \"\"):\n",
    "    plt.savefig(fout, dpi=300, bbox_inches='tight')"
   ]
  },
  {
   "cell_type": "code",
   "execution_count": null,
   "id": "dbde2d57",
   "metadata": {},
   "outputs": [],
   "source": [
    "statid = \"35035020 (Villavicencio, Meta, Colombia)\"\n",
    "ax = dat.Temperatura.groupby(dat.Fecha.dt.dayofyear).median().plot(title=statid,legend=True,label=\"Median\")\n",
    "dat.Temperatura.groupby(dat.Fecha.dt.dayofyear).max().plot(ax=ax,legend=True,label=\"Max\")\n",
    "dat.Temperatura.groupby(dat.Fecha.dt.dayofyear).min().plot(ax=ax,legend=True,label=\"Min\")\n",
    "plt.gca().set_ylabel(\"Temperatura (deg C)\")\n",
    "#MODIS_Meta.groupby(MODIS_Meta.ACQ_DATE.dt.dayofyear).FRP_Norm.max().plot(ax=ax,secondary_y=True,legend=True,label='MODIS FRP Norm')\n",
    "#plt.gca().set_ylabel(\"MODIS FRP_Norm\")\n",
    "\n",
    "plt.grid()\n",
    "fout = f\"D:/Temp/{statid}_MeanDailyTemp.png\"\n",
    "if(fout != \"\"):\n",
    "    plt.savefig(fout, dpi=300, bbox_inches='tight')"
   ]
  },
  {
   "cell_type": "code",
   "execution_count": null,
   "id": "d90fe213",
   "metadata": {},
   "outputs": [],
   "source": [
    "statid = \"35035020 (Villavicencio, Meta, Colombia)\"\n",
    "ax = dat.Precipitacion.groupby(dat.Fecha.dt.dayofyear).median().plot(title=statid,legend=True,label=\"Median\")\n",
    "dat.Precipitacion.groupby(dat.Fecha.dt.dayofyear).quantile(0.75).plot(ax=ax,legend=True,label=\"75th Percentile\")\n",
    "dat.Precipitacion.groupby(dat.Fecha.dt.dayofyear).min().plot(ax=ax,legend=True,label=\"Min\")\n",
    "plt.gca().set_ylabel(\"Precipitacion (mm)\")\n",
    "#MODIS_Meta.groupby(MODIS_Meta.ACQ_DATE.dt.dayofyear).FRP_Norm.max().plot(ax=ax,secondary_y=True,legend=True,label='MODIS FRP Norm')\n",
    "#plt.gca().set_ylabel(\"MODIS FRP_Norm\")\n",
    "\n",
    "plt.grid()\n",
    "fout = f\"D:/Temp/{statid}_MeanDailyPrecip.png\"\n",
    "if(fout != \"\"):\n",
    "    plt.savefig(fout, dpi=300, bbox_inches='tight')"
   ]
  },
  {
   "cell_type": "code",
   "execution_count": null,
   "id": "eb82e90c",
   "metadata": {},
   "outputs": [],
   "source": [
    "spi = SPI()\n",
    "numdays = 180\n",
    "df_spi = spi.calculate(\n",
    "    dat, \n",
    "    'Fecha', \n",
    "    'Precipitacion', \n",
    "    freq=\"D\", \n",
    "    scale=numdays, \n",
    "    fit_type=\"lmom\", \n",
    "    dist_type=\"gam\"\n",
    ")"
   ]
  },
  {
   "cell_type": "code",
   "execution_count": null,
   "id": "3d733ade",
   "metadata": {},
   "outputs": [],
   "source": [
    "fig = plot_index(df_spi, 'Fecha', f'Precipitacion_scale_{numdays}_calculated_index')\n",
    "fig.gca().set_title(statid)\n",
    "#axs[0].set_xlabel('distance (m)')\n",
    "#axs[0].set_ylabel('Damped oscillation')\n",
    "#fig.suptitle('This is a somewhat long figure title', fontsize=16)\n",
    "fout = f\"./Temp/{statid}_{numdays}Day_SPI.png\"\n",
    "if(fout != \"\"):\n",
    "    plt.savefig(fout, dpi=300, bbox_inches='tight')"
   ]
  },
  {
   "cell_type": "code",
   "execution_count": null,
   "id": "8bd637f4",
   "metadata": {},
   "outputs": [],
   "source": [
    "# Plot a histogram\n",
    "dat.Precipitacion[dat.Precipitacion > 0].plot.hist()\n",
    "plt.gca().set_xlabel(\"Precipitacion\",fontsize=16)\n",
    "plt.gca().set_ylabel(\"Frequencia\",fontsize=16)\n",
    "plt.grid()"
   ]
  },
  {
   "cell_type": "code",
   "execution_count": 5,
   "id": "8af0973d",
   "metadata": {},
   "outputs": [],
   "source": [
    "import xarray as xr\n",
    "import rioxarray as rio\n",
    "import os.path\n",
    "from os import path\n",
    "from datetime import date, datetime,timedelta\n",
    "from dateutil.relativedelta import relativedelta\n"
   ]
  },
  {
   "cell_type": "code",
   "execution_count": 6,
   "id": "7590b85f",
   "metadata": {},
   "outputs": [
    {
     "name": "stdout",
     "output_type": "stream",
     "text": [
      "D:/Data/Climate/wc2.1_2.5m_prec/wc2.1_2.5m_prec_01.tif\n",
      "2020-01-01\n"
     ]
    },
    {
     "ename": "NameError",
     "evalue": "name 'CO_Bnds' is not defined",
     "output_type": "error",
     "traceback": [
      "\u001b[1;31m---------------------------------------------------------------------------\u001b[0m",
      "\u001b[1;31mNameError\u001b[0m                                 Traceback (most recent call last)",
      "\u001b[1;32m~\\AppData\\Local\\Temp\\1/ipykernel_21972/3839784398.py\u001b[0m in \u001b[0;36m<module>\u001b[1;34m\u001b[0m\n\u001b[0;32m     19\u001b[0m     \u001b[0mdat\u001b[0m \u001b[1;33m=\u001b[0m \u001b[0mdat\u001b[0m\u001b[1;33m.\u001b[0m\u001b[0mdrop\u001b[0m\u001b[1;33m(\u001b[0m\u001b[1;34m'band'\u001b[0m\u001b[1;33m)\u001b[0m\u001b[1;33m\u001b[0m\u001b[1;33m\u001b[0m\u001b[0m\n\u001b[0;32m     20\u001b[0m     \u001b[0mdat\u001b[0m \u001b[1;33m=\u001b[0m \u001b[0mdat\u001b[0m\u001b[1;33m.\u001b[0m\u001b[0massign_coords\u001b[0m\u001b[1;33m(\u001b[0m\u001b[1;33m{\u001b[0m\u001b[1;34m\"time\"\u001b[0m\u001b[1;33m:\u001b[0m \u001b[0mdat\u001b[0m\u001b[1;33m.\u001b[0m\u001b[0mtime\u001b[0m\u001b[1;33m}\u001b[0m\u001b[1;33m)\u001b[0m\u001b[1;33m\u001b[0m\u001b[1;33m\u001b[0m\u001b[0m\n\u001b[1;32m---> 21\u001b[1;33m     \u001b[0mdat\u001b[0m \u001b[1;33m=\u001b[0m \u001b[0mdat\u001b[0m\u001b[1;33m.\u001b[0m\u001b[0mrio\u001b[0m\u001b[1;33m.\u001b[0m\u001b[0mclip\u001b[0m\u001b[1;33m(\u001b[0m\u001b[0mCO_Bnds\u001b[0m\u001b[1;33m.\u001b[0m\u001b[0mgeometry\u001b[0m\u001b[1;33m,\u001b[0m \u001b[0mCO_Bnds\u001b[0m\u001b[1;33m.\u001b[0m\u001b[0mcrs\u001b[0m\u001b[1;33m,\u001b[0m \u001b[0minvert\u001b[0m\u001b[1;33m=\u001b[0m\u001b[1;32mTrue\u001b[0m\u001b[1;33m,\u001b[0m\u001b[0mdrop\u001b[0m\u001b[1;33m=\u001b[0m\u001b[1;32mTrue\u001b[0m\u001b[1;33m)\u001b[0m\u001b[1;33m\u001b[0m\u001b[1;33m\u001b[0m\u001b[0m\n\u001b[0m\u001b[0;32m     22\u001b[0m     \u001b[1;32mif\u001b[0m \u001b[0mi\u001b[0m \u001b[1;33m==\u001b[0m \u001b[1;36m0\u001b[0m\u001b[1;33m:\u001b[0m\u001b[1;33m\u001b[0m\u001b[1;33m\u001b[0m\u001b[0m\n\u001b[0;32m     23\u001b[0m         \u001b[0mds\u001b[0m \u001b[1;33m=\u001b[0m \u001b[0mdat\u001b[0m\u001b[1;33m\u001b[0m\u001b[1;33m\u001b[0m\u001b[0m\n",
      "\u001b[1;31mNameError\u001b[0m: name 'CO_Bnds' is not defined"
     ]
    }
   ],
   "source": [
    "\n",
    "\n",
    "start_date = date(2020, 1, 1)\n",
    "end_date = date(2020, 12, 31)\n",
    "\n",
    "#delta = timedelta(months=+1)\n",
    "delta = relativedelta(months=1)\n",
    "ds = xr.Dataset()\n",
    "i = 0\n",
    "while start_date <= end_date:\n",
    "    strdate = int(start_date.strftime(\"%m\"))\n",
    "    file_name = 'D:/Data/Climate/wc2.1_2.5m_prec/wc2.1_2.5m_prec_%02d.tif' % (strdate)\n",
    "    dt64 = np.datetime64(start_date)\n",
    "    print(file_name)\n",
    "    \n",
    "    print(start_date)\n",
    "    wc_precip = xr.open_rasterio(file_name)\n",
    "    wc_precip =  wc_precip.rename({\"y\":\"latitude\",\"x\":\"longitude\"})\n",
    "    #wc_precip = wc_precip.assign_coords(longitude=(((senamhi_fwi0.longitude + 180) % 360) - 180)).sortby('longitude')\n",
    "    dat = xr.Dataset({\"time\": dt64,\"tp\":wc_precip})\n",
    "    dat = dat.drop('band')\n",
    "    dat = dat.assign_coords({\"time\": dat.time})\n",
    "    dat = dat.rio.clip(CO_Bnds.geometry, CO_Bnds.crs, invert=True,drop=True)\n",
    "    if i == 0:\n",
    "        ds = dat\n",
    "    else:\n",
    "        ds = xr.concat([ds,dat],dim='time')\n",
    "    i += 1\n",
    "    start_date = start_date + delta\n",
    "#for i in range(1,13):\n",
    "#    Month = i\n",
    "#    myFile = 'D:/Data/Climate/wc2.1_2.5m_prec/wc2.1_2.5m_prec_%02d.tif' % (Month)\n",
    "#    print(myFile)\n",
    "#    xds = xr.open_rasterio(myFile)\n",
    "#    \n",
    "#    clipped = clipped.to_dataset(name=\"Precip\")"
   ]
  },
  {
   "cell_type": "code",
   "execution_count": null,
   "id": "bb5b4b77",
   "metadata": {},
   "outputs": [],
   "source": [
    "mydate = date(2020,1,1)\n",
    "dt = relativedelta(months=1)\n",
    "print(mydate + dt)\n",
    "mydate = mydate + dt\n",
    "print(mydate)"
   ]
  },
  {
   "cell_type": "code",
   "execution_count": null,
   "id": "260ebe4a",
   "metadata": {},
   "outputs": [],
   "source": [
    "ds.tp.where()"
   ]
  },
  {
   "cell_type": "code",
   "execution_count": null,
   "id": "2cd2ddf0",
   "metadata": {},
   "outputs": [],
   "source": [
    "clipped2 = clipped\n",
    "cc = xr.concat([clipped,clipped2],dim=['latitude','longitude'])"
   ]
  },
  {
   "cell_type": "code",
   "execution_count": null,
   "id": "00697bd8",
   "metadata": {},
   "outputs": [],
   "source": []
  },
  {
   "cell_type": "code",
   "execution_count": null,
   "id": "fc7438f1",
   "metadata": {},
   "outputs": [],
   "source": [
    "clipped.where(clipped > 0).plot.hist()"
   ]
  },
  {
   "cell_type": "code",
   "execution_count": null,
   "id": "7cd5ecda",
   "metadata": {},
   "outputs": [],
   "source": [
    "clipped.plot(levels=[0, 10,100,1000,2000])"
   ]
  },
  {
   "cell_type": "code",
   "execution_count": null,
   "id": "74ab06c2",
   "metadata": {},
   "outputs": [],
   "source": [
    "clipped.plot()"
   ]
  },
  {
   "cell_type": "code",
   "execution_count": null,
   "id": "6b315292",
   "metadata": {},
   "outputs": [],
   "source": [
    "CO_Bnds.plot()"
   ]
  },
  {
   "cell_type": "code",
   "execution_count": null,
   "id": "18db13fe",
   "metadata": {},
   "outputs": [],
   "source": []
  }
 ],
 "metadata": {
  "kernelspec": {
   "display_name": "Python 3 (ipykernel)",
   "language": "python",
   "name": "python3"
  },
  "language_info": {
   "codemirror_mode": {
    "name": "ipython",
    "version": 3
   },
   "file_extension": ".py",
   "mimetype": "text/x-python",
   "name": "python",
   "nbconvert_exporter": "python",
   "pygments_lexer": "ipython3",
   "version": "3.8.11"
  }
 },
 "nbformat": 4,
 "nbformat_minor": 5
}
